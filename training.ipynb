{
 "cells": [
  {
   "cell_type": "code",
   "execution_count": 1,
   "metadata": {},
   "outputs": [
    {
     "name": "stdout",
     "output_type": "stream",
     "text": [
      "torch.Size([8, 2, 512, 256]) torch.Size([8, 4, 512, 256])\n"
     ]
    }
   ],
   "source": [
    "import os\n",
    "import torch\n",
    "import torch.nn as nn\n",
    "import torch.optim as optim\n",
    "import random\n",
    "import numpy as np\n",
    "import datetime\n",
    "\n",
    "from torch.utils.data import DataLoader\n",
    "from torchvision import transforms\n",
    "from dataset_utils import SegmentationDataset, read_dataset\n",
    "from bisenetv2 import BiseNetV2\n",
    "from unet import UNet\n",
    "from loss_function import instance_loss\n",
    "from config_utils import Config\n",
    "from metrics import CalculateMetrics\n",
    "from tqdm import tqdm\n",
    "from utils import save_plot\n",
    "\n",
    "torch.manual_seed(120)\n",
    "random.seed(120)\n",
    "np.random.seed(120)"
   ]
  },
  {
   "cell_type": "code",
   "execution_count": 2,
   "metadata": {},
   "outputs": [
    {
     "name": "stdout",
     "output_type": "stream",
     "text": [
      "Importing the datasets with the following parameters...\n",
      "   Dataset path                    : ./data/list/train_gt.txt\n",
      "   Max number of training data     : 20000\n",
      "   Val to all dataset ratio        : 0.2\n",
      "   Batch Size                      : 8\n",
      "\n",
      "Importing the datasets is completed\n"
     ]
    }
   ],
   "source": [
    "device = torch.device(\"cuda\" if torch.cuda.is_available() else \"cpu\")\n",
    "\n",
    "date_time = datetime.datetime.now().strftime(\"%Y%m%d-%H%M%S\")\n",
    "\n",
    "CFG = Config(config_path='./lanenet.yml')\n",
    "dataset_path = CFG.DATASET.TRAIN_FILE_LIST\n",
    "num_samples = CFG.DATASET.MAX_NUM_SAMPLES\n",
    "# num_samples = 10\n",
    "img_size = CFG.DATASET.IMAGE_SIZE\n",
    "val_ratio = CFG.DATASET.VAL_RATIO\n",
    "num_epochs = 60\n",
    "batch_size = CFG.TRAIN.BATCH_SIZE\n",
    "val_batch_size = CFG.TRAIN.VAL_BATCH_SIZE\n",
    "learning_rate = CFG.SOLVER.LR\n",
    "loss_weights = CFG.TRAIN.LOSS_WEIGHTS\n",
    "save_path = os.path.join(CFG.TRAIN.MODEL_SAVE_DIR, date_time)\n",
    "continue_train = CFG.TRAIN.RESTORE_FROM_CHECKPOINT.ENABLE\n",
    "model_path = CFG.TRAIN.RESTORE_FROM_CHECKPOINT.WEIGHT_PATH\n",
    "init_epoch = CFG.TRAIN.RESTORE_FROM_CHECKPOINT.START_EPOCH\n",
    "\n",
    "if not os.path.exists(save_path):\n",
    "    os.makedirs(save_path)\n",
    "\n",
    "## IMPORT ALL THE DATASETS\n",
    "print('Importing the datasets with the following parameters...')\n",
    "print('   Dataset path                    :', dataset_path)\n",
    "print('   Max number of training data     :', num_samples)\n",
    "print('   Val to all dataset ratio        :', val_ratio)\n",
    "print('   Batch Size                      :', batch_size)\n",
    "\n",
    "train_img_paths, train_inst_paths, val_img_paths, val_inst_paths = read_dataset(dataset_path, num_samples=num_samples, split_ratio=val_ratio)\n",
    "\n",
    "train_dataset = SegmentationDataset(train_img_paths, train_inst_paths)\n",
    "val_dataset = SegmentationDataset(val_img_paths, val_inst_paths)\n",
    "\n",
    "train_loader = DataLoader(train_dataset, batch_size=batch_size, shuffle=True)\n",
    "val_loader = DataLoader(val_dataset, batch_size=batch_size, shuffle=False)\n",
    "\n",
    "print(f'\\nImporting the datasets is completed')"
   ]
  },
  {
   "cell_type": "code",
   "execution_count": 3,
   "metadata": {},
   "outputs": [],
   "source": [
    "# Loss Function\n",
    "# criterion_disc = DiscriminativeLoss(delta_var=0.5,\n",
    "#                                     delta_dist=1.5,\n",
    "#                                     norm=2,\n",
    "#                                     usegpu=True).cuda()\n",
    "criterion_disc = instance_loss\n",
    "criterion_ce = nn.CrossEntropyLoss().cuda()\n",
    "\n"
   ]
  },
  {
   "cell_type": "code",
   "execution_count": 4,
   "metadata": {},
   "outputs": [
    {
     "name": "stdout",
     "output_type": "stream",
     "text": [
      "\n",
      "Importing the datasets is completed\n",
      "Model is built\n"
     ]
    }
   ],
   "source": [
    "print(f'\\nImporting the datasets is completed')\n",
    "\n",
    "# Model\n",
    "model = BiseNetV2().to(device)\n",
    "optimizer = optim.Adam(model.parameters(), lr=learning_rate)\n",
    "if continue_train:\n",
    "    checkpoint = torch.load(model_path, weight_only=False)\n",
    "    model.load_state_dict(checkpoint['model_state_dict'])\n",
    "    epoch = checkpoint['epoch']\n",
    "    criterion = checkpoint['loss']\n",
    "    optimizer.load_state_dict(checkpoint['optimizer_state_dict'])\n",
    "else:\n",
    "    criterion = [nn.CrossEntropyLoss().cuda(), instance_loss]\n",
    "metrics = CalculateMetrics(num_classes=2)\n",
    "\n",
    "print('Model is built')"
   ]
  },
  {
   "cell_type": "code",
   "execution_count": 5,
   "metadata": {},
   "outputs": [
    {
     "name": "stdout",
     "output_type": "stream",
     "text": [
      "Starting Training...\n"
     ]
    },
    {
     "name": "stderr",
     "output_type": "stream",
     "text": [
      "                                                                                                                                                            \r"
     ]
    },
    {
     "name": "stdout",
     "output_type": "stream",
     "text": [
      "Epoch 1/60, \n",
      "Train Loss: 10.6542, Train CE Loss: 0.4429, Train Inst Loss: 10.2113, Train IoU: 0.4656, Train Dice: 0.4812, Train Acc: 0.9282\n",
      "Val Loss: 8.8641, Val CE Loss: 0.3634, Val Inst Loss: 8.5007, Val IoU: 0.4815, Val Dice: 0.4906, Val Acc: 0.9629\n",
      "Model improved and saved at ./train_out/20250312-224917/epoch000-loss8.86.pt\n"
     ]
    },
    {
     "name": "stderr",
     "output_type": "stream",
     "text": [
      "                                                                                                                                                            \r"
     ]
    },
    {
     "name": "stdout",
     "output_type": "stream",
     "text": [
      "Epoch 2/60, \n",
      "Train Loss: 7.8181, Train CE Loss: 0.3546, Train Inst Loss: 7.4636, Train IoU: 0.4832, Train Dice: 0.4914, Train Acc: 0.9663\n",
      "Val Loss: 8.7198, Val CE Loss: 0.3496, Val Inst Loss: 8.3703, Val IoU: 0.4821, Val Dice: 0.4909, Val Acc: 0.9642\n",
      "Model improved and saved at ./train_out/20250312-224917/epoch001-loss8.72.pt\n"
     ]
    },
    {
     "name": "stderr",
     "output_type": "stream",
     "text": [
      "                                                                                                                                                           \r"
     ]
    },
    {
     "name": "stdout",
     "output_type": "stream",
     "text": [
      "Epoch 3/60, \n",
      "Train Loss: 7.3105, Train CE Loss: 0.3472, Train Inst Loss: 6.9632, Train IoU: 0.5068, Train Dice: 0.5340, Train Acc: 0.9673\n",
      "Val Loss: 7.1740, Val CE Loss: 0.3443, Val Inst Loss: 6.8297, Val IoU: 0.5400, Val Dice: 0.5952, Val Acc: 0.9635\n",
      "Model improved and saved at ./train_out/20250312-224917/epoch002-loss7.17.pt\n"
     ]
    },
    {
     "name": "stderr",
     "output_type": "stream",
     "text": [
      "                                                                                                                                                            \r"
     ]
    },
    {
     "name": "stdout",
     "output_type": "stream",
     "text": [
      "Epoch 4/60, \n",
      "Train Loss: 6.9571, Train CE Loss: 0.3439, Train Inst Loss: 6.6132, Train IoU: 0.5609, Train Dice: 0.6232, Train Acc: 0.9694\n",
      "Val Loss: 7.1766, Val CE Loss: 0.3429, Val Inst Loss: 6.8337, Val IoU: 0.5236, Val Dice: 0.5687, Val Acc: 0.9623\n",
      "Model improved and saved at ./train_out/20250312-224917/epoch003-loss7.18.pt\n"
     ]
    },
    {
     "name": "stderr",
     "output_type": "stream",
     "text": [
      "                                                                                                                                                            \r"
     ]
    },
    {
     "name": "stdout",
     "output_type": "stream",
     "text": [
      "Epoch 5/60, \n",
      "Train Loss: 6.7179, Train CE Loss: 0.3424, Train Inst Loss: 6.3755, Train IoU: 0.5820, Train Dice: 0.6536, Train Acc: 0.9704\n",
      "Val Loss: 6.5240, Val CE Loss: 0.3415, Val Inst Loss: 6.1825, Val IoU: 0.5981, Val Dice: 0.6749, Val Acc: 0.9750\n",
      "Model improved and saved at ./train_out/20250312-224917/epoch004-loss6.52.pt\n"
     ]
    },
    {
     "name": "stderr",
     "output_type": "stream",
     "text": [
      "                                                                                                                                                            \r"
     ]
    },
    {
     "name": "stdout",
     "output_type": "stream",
     "text": [
      "Epoch 6/60, \n",
      "Train Loss: 6.5104, Train CE Loss: 0.3416, Train Inst Loss: 6.1688, Train IoU: 0.5958, Train Dice: 0.6721, Train Acc: 0.9710\n",
      "Val Loss: 6.4576, Val CE Loss: 0.3412, Val Inst Loss: 6.1164, Val IoU: 0.5418, Val Dice: 0.5970, Val Acc: 0.9652\n",
      "Model improved and saved at ./train_out/20250312-224917/epoch005-loss6.46.pt\n"
     ]
    },
    {
     "name": "stderr",
     "output_type": "stream",
     "text": [
      "                                                                                                                                                            \r"
     ]
    },
    {
     "name": "stdout",
     "output_type": "stream",
     "text": [
      "Epoch 7/60, \n",
      "Train Loss: 6.2790, Train CE Loss: 0.3410, Train Inst Loss: 5.9381, Train IoU: 0.6056, Train Dice: 0.6847, Train Acc: 0.9715\n",
      "Val Loss: 6.1762, Val CE Loss: 0.3402, Val Inst Loss: 5.8360, Val IoU: 0.6034, Val Dice: 0.6851, Val Acc: 0.9674\n",
      "Model improved and saved at ./train_out/20250312-224917/epoch006-loss6.18.pt\n"
     ]
    },
    {
     "name": "stderr",
     "output_type": "stream",
     "text": [
      "                                                                                                                                                            \r"
     ]
    },
    {
     "name": "stdout",
     "output_type": "stream",
     "text": [
      "Epoch 8/60, \n",
      "Train Loss: 6.1093, Train CE Loss: 0.3405, Train Inst Loss: 5.7688, Train IoU: 0.6139, Train Dice: 0.6952, Train Acc: 0.9720\n",
      "Val Loss: 6.2267, Val CE Loss: 0.3397, Val Inst Loss: 5.8870, Val IoU: 0.6086, Val Dice: 0.6891, Val Acc: 0.9739\n",
      "Model improved and saved at ./train_out/20250312-224917/epoch007-loss6.23.pt\n"
     ]
    },
    {
     "name": "stderr",
     "output_type": "stream",
     "text": [
      "                                                                                                                                                            \r"
     ]
    },
    {
     "name": "stdout",
     "output_type": "stream",
     "text": [
      "Epoch 9/60, \n",
      "Train Loss: 5.9693, Train CE Loss: 0.3401, Train Inst Loss: 5.6292, Train IoU: 0.6207, Train Dice: 0.7034, Train Acc: 0.9723\n",
      "Val Loss: 6.0201, Val CE Loss: 0.3396, Val Inst Loss: 5.6805, Val IoU: 0.5911, Val Dice: 0.6655, Val Acc: 0.9746\n",
      "Model improved and saved at ./train_out/20250312-224917/epoch008-loss6.02.pt\n"
     ]
    },
    {
     "name": "stderr",
     "output_type": "stream",
     "text": [
      "                                                                                                                                                            \r"
     ]
    },
    {
     "name": "stdout",
     "output_type": "stream",
     "text": [
      "Epoch 10/60, \n",
      "Train Loss: 5.8585, Train CE Loss: 0.3397, Train Inst Loss: 5.5187, Train IoU: 0.6259, Train Dice: 0.7096, Train Acc: 0.9726\n",
      "Val Loss: 6.1373, Val CE Loss: 0.3391, Val Inst Loss: 5.7982, Val IoU: 0.5875, Val Dice: 0.6612, Val Acc: 0.9730\n",
      "Model improved and saved at ./train_out/20250312-224917/epoch009-loss6.14.pt\n"
     ]
    },
    {
     "name": "stderr",
     "output_type": "stream",
     "text": [
      "                                                                                                                                                            \r"
     ]
    },
    {
     "name": "stdout",
     "output_type": "stream",
     "text": [
      "Epoch 11/60, \n",
      "Train Loss: 5.7597, Train CE Loss: 0.3394, Train Inst Loss: 5.4203, Train IoU: 0.6309, Train Dice: 0.7157, Train Acc: 0.9729\n",
      "Val Loss: 5.9709, Val CE Loss: 0.3388, Val Inst Loss: 5.6321, Val IoU: 0.6413, Val Dice: 0.7295, Val Acc: 0.9737\n",
      "Model improved and saved at ./train_out/20250312-224917/epoch010-loss5.97.pt\n"
     ]
    },
    {
     "name": "stderr",
     "output_type": "stream",
     "text": [
      "                                                                                                                                                            \r"
     ]
    },
    {
     "name": "stdout",
     "output_type": "stream",
     "text": [
      "Epoch 12/60, \n",
      "Train Loss: 5.6726, Train CE Loss: 0.3391, Train Inst Loss: 5.3334, Train IoU: 0.6356, Train Dice: 0.7212, Train Acc: 0.9732\n",
      "Val Loss: 6.0996, Val CE Loss: 0.3388, Val Inst Loss: 5.7608, Val IoU: 0.6185, Val Dice: 0.7039, Val Acc: 0.9681\n",
      "Model improved and saved at ./train_out/20250312-224917/epoch011-loss6.10.pt\n"
     ]
    },
    {
     "name": "stderr",
     "output_type": "stream",
     "text": [
      "                                                                                                                                                            \r"
     ]
    },
    {
     "name": "stdout",
     "output_type": "stream",
     "text": [
      "Epoch 13/60, \n",
      "Train Loss: 5.5875, Train CE Loss: 0.3389, Train Inst Loss: 5.2486, Train IoU: 0.6404, Train Dice: 0.7268, Train Acc: 0.9734\n",
      "Val Loss: 5.7694, Val CE Loss: 0.3386, Val Inst Loss: 5.4308, Val IoU: 0.6587, Val Dice: 0.7491, Val Acc: 0.9743\n",
      "Model improved and saved at ./train_out/20250312-224917/epoch012-loss5.77.pt\n"
     ]
    },
    {
     "name": "stderr",
     "output_type": "stream",
     "text": [
      "                                                                                                                                                            \r"
     ]
    },
    {
     "name": "stdout",
     "output_type": "stream",
     "text": [
      "Epoch 14/60, \n",
      "Train Loss: 5.5165, Train CE Loss: 0.3386, Train Inst Loss: 5.1779, Train IoU: 0.6443, Train Dice: 0.7313, Train Acc: 0.9737\n",
      "Val Loss: 5.8382, Val CE Loss: 0.3379, Val Inst Loss: 5.5004, Val IoU: 0.6385, Val Dice: 0.7261, Val Acc: 0.9739\n",
      "Model improved and saved at ./train_out/20250312-224917/epoch013-loss5.84.pt\n"
     ]
    },
    {
     "name": "stderr",
     "output_type": "stream",
     "text": [
      "                                                                                                                                                            \r"
     ]
    },
    {
     "name": "stdout",
     "output_type": "stream",
     "text": [
      "Epoch 15/60, \n",
      "Train Loss: 5.4449, Train CE Loss: 0.3384, Train Inst Loss: 5.1065, Train IoU: 0.6480, Train Dice: 0.7354, Train Acc: 0.9739\n",
      "Val Loss: 5.6937, Val CE Loss: 0.3378, Val Inst Loss: 5.3558, Val IoU: 0.7248, Val Dice: 0.8147, Val Acc: 0.9793\n",
      "Model improved and saved at ./train_out/20250312-224917/epoch014-loss5.69.pt\n"
     ]
    },
    {
     "name": "stderr",
     "output_type": "stream",
     "text": [
      "                                                                                                                                                            \r"
     ]
    },
    {
     "name": "stdout",
     "output_type": "stream",
     "text": [
      "Epoch 16/60, \n",
      "Train Loss: 5.3826, Train CE Loss: 0.3382, Train Inst Loss: 5.0444, Train IoU: 0.6513, Train Dice: 0.7392, Train Acc: 0.9741\n",
      "Val Loss: 5.8273, Val CE Loss: 0.3378, Val Inst Loss: 5.4895, Val IoU: 0.6432, Val Dice: 0.7310, Val Acc: 0.9757\n",
      "Model improved and saved at ./train_out/20250312-224917/epoch015-loss5.83.pt\n"
     ]
    },
    {
     "name": "stderr",
     "output_type": "stream",
     "text": [
      "                                                                                                                                                            \r"
     ]
    },
    {
     "name": "stdout",
     "output_type": "stream",
     "text": [
      "Epoch 17/60, \n",
      "Train Loss: 5.3309, Train CE Loss: 0.3380, Train Inst Loss: 4.9929, Train IoU: 0.6545, Train Dice: 0.7427, Train Acc: 0.9743\n",
      "Val Loss: 5.5958, Val CE Loss: 0.3371, Val Inst Loss: 5.2587, Val IoU: 0.6215, Val Dice: 0.7083, Val Acc: 0.9662\n",
      "Model improved and saved at ./train_out/20250312-224917/epoch016-loss5.60.pt\n"
     ]
    },
    {
     "name": "stderr",
     "output_type": "stream",
     "text": [
      "                                                                                                                                                            \r"
     ]
    },
    {
     "name": "stdout",
     "output_type": "stream",
     "text": [
      "Epoch 18/60, \n",
      "Train Loss: 5.2480, Train CE Loss: 0.3377, Train Inst Loss: 4.9102, Train IoU: 0.6589, Train Dice: 0.7475, Train Acc: 0.9745\n",
      "Val Loss: 5.8045, Val CE Loss: 0.3376, Val Inst Loss: 5.4669, Val IoU: 0.6190, Val Dice: 0.7044, Val Acc: 0.9686\n",
      "Model improved and saved at ./train_out/20250312-224917/epoch017-loss5.80.pt\n"
     ]
    },
    {
     "name": "stderr",
     "output_type": "stream",
     "text": [
      "                                                                                                                                                            \r"
     ]
    },
    {
     "name": "stdout",
     "output_type": "stream",
     "text": [
      "Epoch 19/60, \n",
      "Train Loss: 5.2044, Train CE Loss: 0.3376, Train Inst Loss: 4.8668, Train IoU: 0.6617, Train Dice: 0.7506, Train Acc: 0.9747\n",
      "Val Loss: 5.6747, Val CE Loss: 0.3373, Val Inst Loss: 5.3374, Val IoU: 0.6988, Val Dice: 0.7906, Val Acc: 0.9760\n",
      "Model improved and saved at ./train_out/20250312-224917/epoch018-loss5.67.pt\n"
     ]
    },
    {
     "name": "stderr",
     "output_type": "stream",
     "text": [
      "                                                                                                                                                            \r"
     ]
    },
    {
     "name": "stdout",
     "output_type": "stream",
     "text": [
      "Epoch 20/60, \n",
      "Train Loss: 5.1423, Train CE Loss: 0.3374, Train Inst Loss: 4.8050, Train IoU: 0.6649, Train Dice: 0.7541, Train Acc: 0.9749\n",
      "Val Loss: 5.6316, Val CE Loss: 0.3368, Val Inst Loss: 5.2948, Val IoU: 0.6156, Val Dice: 0.6986, Val Acc: 0.9728\n",
      "Model improved and saved at ./train_out/20250312-224917/epoch019-loss5.63.pt\n"
     ]
    },
    {
     "name": "stderr",
     "output_type": "stream",
     "text": [
      "                                                                                                                                                            \r"
     ]
    },
    {
     "name": "stdout",
     "output_type": "stream",
     "text": [
      "Epoch 21/60, \n",
      "Train Loss: 5.1054, Train CE Loss: 0.3372, Train Inst Loss: 4.7683, Train IoU: 0.6679, Train Dice: 0.7573, Train Acc: 0.9750\n",
      "Val Loss: 5.6563, Val CE Loss: 0.3366, Val Inst Loss: 5.3197, Val IoU: 0.6458, Val Dice: 0.7350, Val Acc: 0.9727\n",
      "Model improved and saved at ./train_out/20250312-224917/epoch020-loss5.66.pt\n"
     ]
    },
    {
     "name": "stderr",
     "output_type": "stream",
     "text": [
      "                                                                                                                                                           \r"
     ]
    },
    {
     "name": "stdout",
     "output_type": "stream",
     "text": [
      "Epoch 22/60, \n",
      "Train Loss: 5.0609, Train CE Loss: 0.3370, Train Inst Loss: 4.7239, Train IoU: 0.6702, Train Dice: 0.7597, Train Acc: 0.9752\n",
      "Val Loss: 5.6646, Val CE Loss: 0.3367, Val Inst Loss: 5.3279, Val IoU: 0.6292, Val Dice: 0.7164, Val Acc: 0.9698\n",
      "Model improved and saved at ./train_out/20250312-224917/epoch021-loss5.66.pt\n"
     ]
    },
    {
     "name": "stderr",
     "output_type": "stream",
     "text": [
      "                                                                                                                                                            \r"
     ]
    },
    {
     "name": "stdout",
     "output_type": "stream",
     "text": [
      "Epoch 23/60, \n",
      "Train Loss: 5.0092, Train CE Loss: 0.3368, Train Inst Loss: 4.6724, Train IoU: 0.6730, Train Dice: 0.7627, Train Acc: 0.9754\n",
      "Val Loss: 5.5648, Val CE Loss: 0.3365, Val Inst Loss: 5.2283, Val IoU: 0.7365, Val Dice: 0.8259, Val Acc: 0.9765\n",
      "Model improved and saved at ./train_out/20250312-224917/epoch022-loss5.56.pt\n"
     ]
    },
    {
     "name": "stderr",
     "output_type": "stream",
     "text": [
      "                                                                                                                                                            \r"
     ]
    },
    {
     "name": "stdout",
     "output_type": "stream",
     "text": [
      "Epoch 24/60, \n",
      "Train Loss: 4.9676, Train CE Loss: 0.3366, Train Inst Loss: 4.6310, Train IoU: 0.6761, Train Dice: 0.7660, Train Acc: 0.9756\n",
      "Val Loss: 5.6456, Val CE Loss: 0.3366, Val Inst Loss: 5.3089, Val IoU: 0.6809, Val Dice: 0.7736, Val Acc: 0.9716\n",
      "Model improved and saved at ./train_out/20250312-224917/epoch023-loss5.65.pt\n"
     ]
    },
    {
     "name": "stderr",
     "output_type": "stream",
     "text": [
      "                                                                                                                                                           \r"
     ]
    },
    {
     "name": "stdout",
     "output_type": "stream",
     "text": [
      "Epoch 25/60, \n",
      "Train Loss: 4.9486, Train CE Loss: 0.3365, Train Inst Loss: 4.6122, Train IoU: 0.6786, Train Dice: 0.7686, Train Acc: 0.9757\n",
      "Val Loss: 5.5162, Val CE Loss: 0.3365, Val Inst Loss: 5.1798, Val IoU: 0.6781, Val Dice: 0.7701, Val Acc: 0.9738\n",
      "Model improved and saved at ./train_out/20250312-224917/epoch024-loss5.52.pt\n"
     ]
    },
    {
     "name": "stderr",
     "output_type": "stream",
     "text": [
      "                                                                                                                                                           \r"
     ]
    },
    {
     "name": "stdout",
     "output_type": "stream",
     "text": [
      "Epoch 26/60, \n",
      "Train Loss: 4.9087, Train CE Loss: 0.3364, Train Inst Loss: 4.5723, Train IoU: 0.6806, Train Dice: 0.7705, Train Acc: 0.9758\n",
      "Val Loss: 5.4492, Val CE Loss: 0.3362, Val Inst Loss: 5.1130, Val IoU: 0.6790, Val Dice: 0.7704, Val Acc: 0.9759\n",
      "Model improved and saved at ./train_out/20250312-224917/epoch025-loss5.45.pt\n"
     ]
    },
    {
     "name": "stderr",
     "output_type": "stream",
     "text": [
      "                                                                                                                                                            \r"
     ]
    },
    {
     "name": "stdout",
     "output_type": "stream",
     "text": [
      "Epoch 27/60, \n",
      "Train Loss: 4.8894, Train CE Loss: 0.3362, Train Inst Loss: 4.5532, Train IoU: 0.6832, Train Dice: 0.7732, Train Acc: 0.9760\n",
      "Val Loss: 5.4959, Val CE Loss: 0.3360, Val Inst Loss: 5.1599, Val IoU: 0.6892, Val Dice: 0.7805, Val Acc: 0.9775\n",
      "Model improved and saved at ./train_out/20250312-224917/epoch026-loss5.50.pt\n"
     ]
    },
    {
     "name": "stderr",
     "output_type": "stream",
     "text": [
      "                                                                                                                                                            \r"
     ]
    },
    {
     "name": "stdout",
     "output_type": "stream",
     "text": [
      "Epoch 28/60, \n",
      "Train Loss: 4.8600, Train CE Loss: 0.3360, Train Inst Loss: 4.5240, Train IoU: 0.6857, Train Dice: 0.7758, Train Acc: 0.9762\n",
      "Val Loss: 5.4218, Val CE Loss: 0.3357, Val Inst Loss: 5.0861, Val IoU: 0.6952, Val Dice: 0.7870, Val Acc: 0.9761\n",
      "Model improved and saved at ./train_out/20250312-224917/epoch027-loss5.42.pt\n"
     ]
    },
    {
     "name": "stderr",
     "output_type": "stream",
     "text": [
      "                                                                                                                                                            \r"
     ]
    },
    {
     "name": "stdout",
     "output_type": "stream",
     "text": [
      "Epoch 29/60, \n",
      "Train Loss: 4.8202, Train CE Loss: 0.3359, Train Inst Loss: 4.4843, Train IoU: 0.6883, Train Dice: 0.7784, Train Acc: 0.9763\n",
      "Val Loss: 5.4756, Val CE Loss: 0.3359, Val Inst Loss: 5.1397, Val IoU: 0.6829, Val Dice: 0.7745, Val Acc: 0.9762\n",
      "Model improved and saved at ./train_out/20250312-224917/epoch028-loss5.48.pt\n"
     ]
    },
    {
     "name": "stderr",
     "output_type": "stream",
     "text": [
      "                                                                                                                                                            \r"
     ]
    },
    {
     "name": "stdout",
     "output_type": "stream",
     "text": [
      "Epoch 30/60, \n",
      "Train Loss: 4.7931, Train CE Loss: 0.3357, Train Inst Loss: 4.4574, Train IoU: 0.6907, Train Dice: 0.7809, Train Acc: 0.9765\n",
      "Val Loss: 5.5027, Val CE Loss: 0.3360, Val Inst Loss: 5.1667, Val IoU: 0.7119, Val Dice: 0.8038, Val Acc: 0.9740\n",
      "Model improved and saved at ./train_out/20250312-224917/epoch029-loss5.50.pt\n"
     ]
    },
    {
     "name": "stderr",
     "output_type": "stream",
     "text": [
      "                                                                                                                                                            \r"
     ]
    },
    {
     "name": "stdout",
     "output_type": "stream",
     "text": [
      "Epoch 31/60, \n",
      "Train Loss: 4.7662, Train CE Loss: 0.3355, Train Inst Loss: 4.4307, Train IoU: 0.6934, Train Dice: 0.7835, Train Acc: 0.9766\n",
      "Val Loss: 5.4270, Val CE Loss: 0.3353, Val Inst Loss: 5.0916, Val IoU: 0.7140, Val Dice: 0.8052, Val Acc: 0.9764\n",
      "Model improved and saved at ./train_out/20250312-224917/epoch030-loss5.43.pt\n"
     ]
    },
    {
     "name": "stderr",
     "output_type": "stream",
     "text": [
      "                                                                                                                                                            \r"
     ]
    },
    {
     "name": "stdout",
     "output_type": "stream",
     "text": [
      "Epoch 32/60, \n",
      "Train Loss: 4.7401, Train CE Loss: 0.3354, Train Inst Loss: 4.4047, Train IoU: 0.6955, Train Dice: 0.7857, Train Acc: 0.9768\n",
      "Val Loss: 5.4762, Val CE Loss: 0.3357, Val Inst Loss: 5.1405, Val IoU: 0.7293, Val Dice: 0.8192, Val Acc: 0.9777\n",
      "Model improved and saved at ./train_out/20250312-224917/epoch031-loss5.48.pt\n"
     ]
    },
    {
     "name": "stderr",
     "output_type": "stream",
     "text": [
      "                                                                                                                                                            \r"
     ]
    },
    {
     "name": "stdout",
     "output_type": "stream",
     "text": [
      "Epoch 33/60, \n",
      "Train Loss: 4.7189, Train CE Loss: 0.3353, Train Inst Loss: 4.3836, Train IoU: 0.6972, Train Dice: 0.7873, Train Acc: 0.9769\n",
      "Val Loss: 5.4396, Val CE Loss: 0.3355, Val Inst Loss: 5.1041, Val IoU: 0.6751, Val Dice: 0.7672, Val Acc: 0.9730\n",
      "Model improved and saved at ./train_out/20250312-224917/epoch032-loss5.44.pt\n"
     ]
    },
    {
     "name": "stderr",
     "output_type": "stream",
     "text": [
      "                                                                                                                                                          \r"
     ]
    },
    {
     "name": "stdout",
     "output_type": "stream",
     "text": [
      "Epoch 34/60, \n",
      "Train Loss: 4.7053, Train CE Loss: 0.3352, Train Inst Loss: 4.3701, Train IoU: 0.6991, Train Dice: 0.7892, Train Acc: 0.9770\n",
      "Val Loss: 5.5304, Val CE Loss: 0.3353, Val Inst Loss: 5.1951, Val IoU: 0.6491, Val Dice: 0.7397, Val Acc: 0.9697\n",
      "Model improved and saved at ./train_out/20250312-224917/epoch033-loss5.53.pt\n"
     ]
    },
    {
     "name": "stderr",
     "output_type": "stream",
     "text": [
      "                                                                                                                                                            \r"
     ]
    },
    {
     "name": "stdout",
     "output_type": "stream",
     "text": [
      "Epoch 35/60, \n",
      "Train Loss: 4.6685, Train CE Loss: 0.3350, Train Inst Loss: 4.3335, Train IoU: 0.7013, Train Dice: 0.7913, Train Acc: 0.9772\n",
      "Val Loss: 5.5007, Val CE Loss: 0.3353, Val Inst Loss: 5.1655, Val IoU: 0.7339, Val Dice: 0.8228, Val Acc: 0.9806\n",
      "Model improved and saved at ./train_out/20250312-224917/epoch034-loss5.50.pt\n"
     ]
    },
    {
     "name": "stderr",
     "output_type": "stream",
     "text": [
      "                                                                                                                                                            \r"
     ]
    },
    {
     "name": "stdout",
     "output_type": "stream",
     "text": [
      "Epoch 36/60, \n",
      "Train Loss: 4.6593, Train CE Loss: 0.3349, Train Inst Loss: 4.3244, Train IoU: 0.7029, Train Dice: 0.7929, Train Acc: 0.9773\n",
      "Val Loss: 5.5313, Val CE Loss: 0.3349, Val Inst Loss: 5.1964, Val IoU: 0.7671, Val Dice: 0.8511, Val Acc: 0.9835\n",
      "Model improved and saved at ./train_out/20250312-224917/epoch035-loss5.53.pt\n"
     ]
    },
    {
     "name": "stderr",
     "output_type": "stream",
     "text": [
      "                                                                                                                                                           \r"
     ]
    },
    {
     "name": "stdout",
     "output_type": "stream",
     "text": [
      "Epoch 37/60, \n",
      "Train Loss: 4.6415, Train CE Loss: 0.3348, Train Inst Loss: 4.3067, Train IoU: 0.7047, Train Dice: 0.7947, Train Acc: 0.9774\n",
      "Val Loss: 5.4808, Val CE Loss: 0.3349, Val Inst Loss: 5.1459, Val IoU: 0.6810, Val Dice: 0.7713, Val Acc: 0.9804\n",
      "Model improved and saved at ./train_out/20250312-224917/epoch036-loss5.48.pt\n"
     ]
    },
    {
     "name": "stderr",
     "output_type": "stream",
     "text": [
      "                                                                                                                                                            \r"
     ]
    },
    {
     "name": "stdout",
     "output_type": "stream",
     "text": [
      "Epoch 38/60, \n",
      "Train Loss: 4.6089, Train CE Loss: 0.3346, Train Inst Loss: 4.2743, Train IoU: 0.7070, Train Dice: 0.7969, Train Acc: 0.9776\n",
      "Val Loss: 5.3893, Val CE Loss: 0.3346, Val Inst Loss: 5.0547, Val IoU: 0.7334, Val Dice: 0.8219, Val Acc: 0.9823\n",
      "Model improved and saved at ./train_out/20250312-224917/epoch037-loss5.39.pt\n"
     ]
    },
    {
     "name": "stderr",
     "output_type": "stream",
     "text": [
      "                                                                                                                                                            \r"
     ]
    },
    {
     "name": "stdout",
     "output_type": "stream",
     "text": [
      "Epoch 39/60, \n",
      "Train Loss: 4.6086, Train CE Loss: 0.3345, Train Inst Loss: 4.2741, Train IoU: 0.7086, Train Dice: 0.7984, Train Acc: 0.9777\n",
      "Val Loss: 5.4229, Val CE Loss: 0.3347, Val Inst Loss: 5.0882, Val IoU: 0.7312, Val Dice: 0.8211, Val Acc: 0.9769\n",
      "Model improved and saved at ./train_out/20250312-224917/epoch038-loss5.42.pt\n"
     ]
    },
    {
     "name": "stderr",
     "output_type": "stream",
     "text": [
      "                                                                                                                                                            \r"
     ]
    },
    {
     "name": "stdout",
     "output_type": "stream",
     "text": [
      "Epoch 40/60, \n",
      "Train Loss: 4.5885, Train CE Loss: 0.3344, Train Inst Loss: 4.2541, Train IoU: 0.7105, Train Dice: 0.8003, Train Acc: 0.9778\n",
      "Val Loss: 5.4491, Val CE Loss: 0.3344, Val Inst Loss: 5.1147, Val IoU: 0.6956, Val Dice: 0.7859, Val Acc: 0.9821\n",
      "Model improved and saved at ./train_out/20250312-224917/epoch039-loss5.45.pt\n"
     ]
    },
    {
     "name": "stderr",
     "output_type": "stream",
     "text": [
      "                                                                                                                                                            \r"
     ]
    },
    {
     "name": "stdout",
     "output_type": "stream",
     "text": [
      "Epoch 41/60, \n",
      "Train Loss: 4.5738, Train CE Loss: 0.3343, Train Inst Loss: 4.2396, Train IoU: 0.7123, Train Dice: 0.8020, Train Acc: 0.9779\n",
      "Val Loss: 5.4740, Val CE Loss: 0.3345, Val Inst Loss: 5.1395, Val IoU: 0.7038, Val Dice: 0.7957, Val Acc: 0.9754\n",
      "Model improved and saved at ./train_out/20250312-224917/epoch040-loss5.47.pt\n"
     ]
    },
    {
     "name": "stderr",
     "output_type": "stream",
     "text": [
      "                                                                                                                                                            \r"
     ]
    },
    {
     "name": "stdout",
     "output_type": "stream",
     "text": [
      "Epoch 42/60, \n",
      "Train Loss: 4.5524, Train CE Loss: 0.3341, Train Inst Loss: 4.2183, Train IoU: 0.7143, Train Dice: 0.8038, Train Acc: 0.9780\n",
      "Val Loss: 5.4270, Val CE Loss: 0.3344, Val Inst Loss: 5.0926, Val IoU: 0.7665, Val Dice: 0.8507, Val Acc: 0.9824\n",
      "Model improved and saved at ./train_out/20250312-224917/epoch041-loss5.43.pt\n"
     ]
    },
    {
     "name": "stderr",
     "output_type": "stream",
     "text": [
      "                                                                                                                                                            \r"
     ]
    },
    {
     "name": "stdout",
     "output_type": "stream",
     "text": [
      "Epoch 43/60, \n",
      "Train Loss: 4.5466, Train CE Loss: 0.3341, Train Inst Loss: 4.2125, Train IoU: 0.7155, Train Dice: 0.8050, Train Acc: 0.9781\n",
      "Val Loss: 5.4805, Val CE Loss: 0.3344, Val Inst Loss: 5.1461, Val IoU: 0.7178, Val Dice: 0.8084, Val Acc: 0.9783\n",
      "Model improved and saved at ./train_out/20250312-224917/epoch042-loss5.48.pt\n"
     ]
    },
    {
     "name": "stderr",
     "output_type": "stream",
     "text": [
      "                                                                                                                                                            \r"
     ]
    },
    {
     "name": "stdout",
     "output_type": "stream",
     "text": [
      "Epoch 44/60, \n",
      "Train Loss: 4.5310, Train CE Loss: 0.3339, Train Inst Loss: 4.1971, Train IoU: 0.7175, Train Dice: 0.8068, Train Acc: 0.9783\n",
      "Val Loss: 5.4922, Val CE Loss: 0.3342, Val Inst Loss: 5.1581, Val IoU: 0.7267, Val Dice: 0.8173, Val Acc: 0.9755\n",
      "Model improved and saved at ./train_out/20250312-224917/epoch043-loss5.49.pt\n"
     ]
    },
    {
     "name": "stderr",
     "output_type": "stream",
     "text": [
      "                                                                                                                                                            \r"
     ]
    },
    {
     "name": "stdout",
     "output_type": "stream",
     "text": [
      "Epoch 45/60, \n",
      "Train Loss: 4.5072, Train CE Loss: 0.3338, Train Inst Loss: 4.1735, Train IoU: 0.7197, Train Dice: 0.8089, Train Acc: 0.9784\n",
      "Val Loss: 5.4349, Val CE Loss: 0.3348, Val Inst Loss: 5.1001, Val IoU: 0.7448, Val Dice: 0.8329, Val Acc: 0.9786\n",
      "Model improved and saved at ./train_out/20250312-224917/epoch044-loss5.43.pt\n"
     ]
    },
    {
     "name": "stderr",
     "output_type": "stream",
     "text": [
      "                                                                                                                                                            \r"
     ]
    },
    {
     "name": "stdout",
     "output_type": "stream",
     "text": [
      "Epoch 46/60, \n",
      "Train Loss: 4.5005, Train CE Loss: 0.3337, Train Inst Loss: 4.1668, Train IoU: 0.7208, Train Dice: 0.8099, Train Acc: 0.9785\n",
      "Val Loss: 5.4112, Val CE Loss: 0.3343, Val Inst Loss: 5.0768, Val IoU: 0.7224, Val Dice: 0.8137, Val Acc: 0.9740\n",
      "Model improved and saved at ./train_out/20250312-224917/epoch045-loss5.41.pt\n"
     ]
    },
    {
     "name": "stderr",
     "output_type": "stream",
     "text": [
      "                                                                                                                                                            \r"
     ]
    },
    {
     "name": "stdout",
     "output_type": "stream",
     "text": [
      "Epoch 47/60, \n",
      "Train Loss: 4.4829, Train CE Loss: 0.3335, Train Inst Loss: 4.1494, Train IoU: 0.7232, Train Dice: 0.8121, Train Acc: 0.9787\n",
      "Val Loss: 5.4805, Val CE Loss: 0.3348, Val Inst Loss: 5.1457, Val IoU: 0.7880, Val Dice: 0.8678, Val Acc: 0.9846\n",
      "Model improved and saved at ./train_out/20250312-224917/epoch046-loss5.48.pt\n"
     ]
    },
    {
     "name": "stderr",
     "output_type": "stream",
     "text": [
      "                                                                                                                                                            \r"
     ]
    },
    {
     "name": "stdout",
     "output_type": "stream",
     "text": [
      "Epoch 48/60, \n",
      "Train Loss: 4.4719, Train CE Loss: 0.3335, Train Inst Loss: 4.1384, Train IoU: 0.7239, Train Dice: 0.8127, Train Acc: 0.9787\n",
      "Val Loss: 5.4705, Val CE Loss: 0.3342, Val Inst Loss: 5.1362, Val IoU: 0.7182, Val Dice: 0.8080, Val Acc: 0.9816\n",
      "Model improved and saved at ./train_out/20250312-224917/epoch047-loss5.47.pt\n"
     ]
    },
    {
     "name": "stderr",
     "output_type": "stream",
     "text": [
      "                                                                                                                                                            \r"
     ]
    },
    {
     "name": "stdout",
     "output_type": "stream",
     "text": [
      "Epoch 49/60, \n",
      "Train Loss: 4.4526, Train CE Loss: 0.3333, Train Inst Loss: 4.1193, Train IoU: 0.7264, Train Dice: 0.8151, Train Acc: 0.9789\n",
      "Val Loss: 5.3758, Val CE Loss: 0.3340, Val Inst Loss: 5.0417, Val IoU: 0.7608, Val Dice: 0.8462, Val Acc: 0.9811\n",
      "Model improved and saved at ./train_out/20250312-224917/epoch048-loss5.38.pt\n"
     ]
    },
    {
     "name": "stderr",
     "output_type": "stream",
     "text": [
      "                                                                                                                                                            \r"
     ]
    },
    {
     "name": "stdout",
     "output_type": "stream",
     "text": [
      "Epoch 50/60, \n",
      "Train Loss: 4.4450, Train CE Loss: 0.3332, Train Inst Loss: 4.1118, Train IoU: 0.7276, Train Dice: 0.8162, Train Acc: 0.9789\n",
      "Val Loss: 5.4009, Val CE Loss: 0.3341, Val Inst Loss: 5.0667, Val IoU: 0.7738, Val Dice: 0.8565, Val Acc: 0.9834\n",
      "Model improved and saved at ./train_out/20250312-224917/epoch049-loss5.40.pt\n"
     ]
    },
    {
     "name": "stderr",
     "output_type": "stream",
     "text": [
      "                                                                                                                                                            \r"
     ]
    },
    {
     "name": "stdout",
     "output_type": "stream",
     "text": [
      "Epoch 51/60, \n",
      "Train Loss: 4.4341, Train CE Loss: 0.3331, Train Inst Loss: 4.1010, Train IoU: 0.7291, Train Dice: 0.8174, Train Acc: 0.9791\n",
      "Val Loss: 5.5218, Val CE Loss: 0.3342, Val Inst Loss: 5.1876, Val IoU: 0.7684, Val Dice: 0.8525, Val Acc: 0.9815\n",
      "Model improved and saved at ./train_out/20250312-224917/epoch050-loss5.52.pt\n"
     ]
    },
    {
     "name": "stderr",
     "output_type": "stream",
     "text": [
      "                                                                                                                                                           \r"
     ]
    },
    {
     "name": "stdout",
     "output_type": "stream",
     "text": [
      "Epoch 52/60, \n",
      "Train Loss: 4.4186, Train CE Loss: 0.3330, Train Inst Loss: 4.0856, Train IoU: 0.7306, Train Dice: 0.8188, Train Acc: 0.9792\n",
      "Val Loss: 5.5424, Val CE Loss: 0.3338, Val Inst Loss: 5.2086, Val IoU: 0.7897, Val Dice: 0.8694, Val Acc: 0.9829\n",
      "Model improved and saved at ./train_out/20250312-224917/epoch051-loss5.54.pt\n"
     ]
    },
    {
     "name": "stderr",
     "output_type": "stream",
     "text": [
      "                                                                                                                                                            \r"
     ]
    },
    {
     "name": "stdout",
     "output_type": "stream",
     "text": [
      "Epoch 53/60, \n",
      "Train Loss: 4.4177, Train CE Loss: 0.3330, Train Inst Loss: 4.0847, Train IoU: 0.7311, Train Dice: 0.8193, Train Acc: 0.9792\n",
      "Val Loss: 5.4156, Val CE Loss: 0.3339, Val Inst Loss: 5.0816, Val IoU: 0.7551, Val Dice: 0.8410, Val Acc: 0.9831\n",
      "Model improved and saved at ./train_out/20250312-224917/epoch052-loss5.42.pt\n"
     ]
    },
    {
     "name": "stderr",
     "output_type": "stream",
     "text": [
      "                                                                                                                                                            \r"
     ]
    },
    {
     "name": "stdout",
     "output_type": "stream",
     "text": [
      "Epoch 54/60, \n",
      "Train Loss: 4.3974, Train CE Loss: 0.3328, Train Inst Loss: 4.0646, Train IoU: 0.7339, Train Dice: 0.8219, Train Acc: 0.9794\n",
      "Val Loss: 5.5275, Val CE Loss: 0.3342, Val Inst Loss: 5.1933, Val IoU: 0.7336, Val Dice: 0.8218, Val Acc: 0.9838\n",
      "Model improved and saved at ./train_out/20250312-224917/epoch053-loss5.53.pt\n"
     ]
    },
    {
     "name": "stderr",
     "output_type": "stream",
     "text": [
      "                                                                                                                                                            \r"
     ]
    },
    {
     "name": "stdout",
     "output_type": "stream",
     "text": [
      "Epoch 55/60, \n",
      "Train Loss: 4.3849, Train CE Loss: 0.3327, Train Inst Loss: 4.0522, Train IoU: 0.7352, Train Dice: 0.8230, Train Acc: 0.9795\n",
      "Val Loss: 5.5465, Val CE Loss: 0.3340, Val Inst Loss: 5.2125, Val IoU: 0.7225, Val Dice: 0.8130, Val Acc: 0.9771\n",
      "Model improved and saved at ./train_out/20250312-224917/epoch054-loss5.55.pt\n"
     ]
    },
    {
     "name": "stderr",
     "output_type": "stream",
     "text": [
      "                                                                                                                                                            \r"
     ]
    },
    {
     "name": "stdout",
     "output_type": "stream",
     "text": [
      "Epoch 56/60, \n",
      "Train Loss: 4.3793, Train CE Loss: 0.3326, Train Inst Loss: 4.0467, Train IoU: 0.7372, Train Dice: 0.8248, Train Acc: 0.9796\n",
      "Val Loss: 5.6015, Val CE Loss: 0.3339, Val Inst Loss: 5.2676, Val IoU: 0.6953, Val Dice: 0.7877, Val Acc: 0.9736\n",
      "Model improved and saved at ./train_out/20250312-224917/epoch055-loss5.60.pt\n"
     ]
    },
    {
     "name": "stderr",
     "output_type": "stream",
     "text": [
      "                                                                                                                                                            \r"
     ]
    },
    {
     "name": "stdout",
     "output_type": "stream",
     "text": [
      "Epoch 57/60, \n",
      "Train Loss: 4.3810, Train CE Loss: 0.3325, Train Inst Loss: 4.0484, Train IoU: 0.7375, Train Dice: 0.8250, Train Acc: 0.9797\n",
      "Val Loss: 5.5278, Val CE Loss: 0.3336, Val Inst Loss: 5.1941, Val IoU: 0.7255, Val Dice: 0.8156, Val Acc: 0.9783\n",
      "Model improved and saved at ./train_out/20250312-224917/epoch056-loss5.53.pt\n"
     ]
    },
    {
     "name": "stderr",
     "output_type": "stream",
     "text": [
      "                                                                                                                                                            \r"
     ]
    },
    {
     "name": "stdout",
     "output_type": "stream",
     "text": [
      "Epoch 58/60, \n",
      "Train Loss: 4.3558, Train CE Loss: 0.3324, Train Inst Loss: 4.0234, Train IoU: 0.7397, Train Dice: 0.8270, Train Acc: 0.9798\n",
      "Val Loss: 5.5323, Val CE Loss: 0.3337, Val Inst Loss: 5.1986, Val IoU: 0.7634, Val Dice: 0.8486, Val Acc: 0.9793\n",
      "Model improved and saved at ./train_out/20250312-224917/epoch057-loss5.53.pt\n"
     ]
    },
    {
     "name": "stderr",
     "output_type": "stream",
     "text": [
      "                                                                                                                                                            \r"
     ]
    },
    {
     "name": "stdout",
     "output_type": "stream",
     "text": [
      "Epoch 59/60, \n",
      "Train Loss: 4.3530, Train CE Loss: 0.3323, Train Inst Loss: 4.0207, Train IoU: 0.7410, Train Dice: 0.8282, Train Acc: 0.9799\n",
      "Val Loss: 5.5645, Val CE Loss: 0.3337, Val Inst Loss: 5.2309, Val IoU: 0.7427, Val Dice: 0.8310, Val Acc: 0.9787\n",
      "Model improved and saved at ./train_out/20250312-224917/epoch058-loss5.56.pt\n"
     ]
    },
    {
     "name": "stderr",
     "output_type": "stream",
     "text": [
      "                                                                                                                                                            \r"
     ]
    },
    {
     "name": "stdout",
     "output_type": "stream",
     "text": [
      "Epoch 60/60, \n",
      "Train Loss: 4.3350, Train CE Loss: 0.3322, Train Inst Loss: 4.0028, Train IoU: 0.7422, Train Dice: 0.8292, Train Acc: 0.9800\n",
      "Val Loss: 5.3960, Val CE Loss: 0.3342, Val Inst Loss: 5.0618, Val IoU: 0.7436, Val Dice: 0.8310, Val Acc: 0.9826\n",
      "Model improved and saved at ./train_out/20250312-224917/epoch059-loss5.40.pt\n"
     ]
    }
   ],
   "source": [
    "best_val_loss = float('inf')\n",
    "history = {\"train_loss\": [], \n",
    "           \"val_loss\": [], \n",
    "           \"train_ce_loss\": [],\n",
    "           \"val_ce_loss\": [], \n",
    "           \"train_inst_loss\": [],\n",
    "           \"val_inst_loss\": [],\n",
    "           \"train_iou\": [],\n",
    "           \"val_iou\": [],\n",
    "           \"train_acc\": [],\n",
    "           \"val_acc\": [],\n",
    "           \"train_dice\": [],\n",
    "           \"val_dice\": [],}\n",
    "\n",
    "# train_model(model, train_loader, val_loader, criterion, optimizer)\n",
    "\n",
    "# Training loop\n",
    "print(\"Starting Training...\")\n",
    "count_skip_best_val = 0\n",
    "for epoch in range(num_epochs):\n",
    "    train_metrics = {\"iou\": 0, \"dice\": 0, \"accuracy\": 0}\n",
    "    count = 0\n",
    "    model.train()\n",
    "    total_loss = 0\n",
    "    total_ce_loss = 0\n",
    "    total_inst_loss = 0\n",
    "    train_pbar = tqdm(train_loader, desc=f\"Epoch {epoch+1}/{num_epochs}\", leave=False)\n",
    "    for images, bin, inst in train_pbar:\n",
    "        images, bin, inst = images.to(device), bin.to(device), inst.to(device)\n",
    "        optimizer.zero_grad()\n",
    "        bin_pred, inst_pred = model(images)\n",
    "        # print(masks.shape, outputs.shape)\n",
    "        # print(images.shape)\n",
    "        # print(bin_pred.shape, inst_pred.shape)\n",
    "        # print(bin.shape, inst.shape)\n",
    "        ce_loss = criterion[0](bin_pred, bin)\n",
    "        inst_loss = criterion[1](inst, inst_pred)\n",
    "        loss = ce_loss + inst_loss\n",
    "        loss.backward()\n",
    "        optimizer.step()\n",
    "        total_loss += loss.item()\n",
    "        total_ce_loss += ce_loss.item()\n",
    "        total_inst_loss += inst_loss.item()\n",
    "        # print(masks.shape, outputs.shape)\n",
    "        batch_metrics = metrics(bin, bin_pred)\n",
    "        for key in train_metrics:\n",
    "            train_metrics[key] += batch_metrics[key]\n",
    "        count += 1\n",
    "        train_pbar.set_postfix(loss=loss.item(), ce_loss=ce_loss.item(), inst_loss=inst_loss.item(), iou=batch_metrics['iou'], dice=batch_metrics['dice'], acc=batch_metrics['accuracy'])\n",
    "    \n",
    "    for key in train_metrics:\n",
    "        train_metrics[key] /= count\n",
    "    avg_train_loss = total_loss/count\n",
    "    avg_train_ce_loss = total_ce_loss/count\n",
    "    avg_train_inst_loss = total_inst_loss/count\n",
    "\n",
    "    model.eval()\n",
    "    val_loss = 0\n",
    "    val_ce_loss = 0\n",
    "    val_inst_loss = 0\n",
    "    val_metrics = {\"iou\": 0, \"dice\": 0, \"accuracy\": 0}\n",
    "    count = 0\n",
    "\n",
    "    with torch.no_grad():\n",
    "        val_pbar = tqdm(val_loader, desc=\"Validating\", leave=False)\n",
    "        for images, bins, insts in val_pbar:\n",
    "            images, bins, insts = images.to(device), bins.to(device), insts.to(device)\n",
    "            bin_pred, inst_pred = model(images)\n",
    "            ce_loss = criterion[0](bin_pred, bins)\n",
    "            inst_loss = criterion[1](insts, inst_pred)\n",
    "            loss = ce_loss + inst_loss\n",
    "            val_loss += loss.item()\n",
    "            val_ce_loss += ce_loss.item()\n",
    "            val_inst_loss += inst_loss.item()\n",
    "            batch_val_metrics = metrics(bins, bin_pred)\n",
    "            for key in val_metrics:\n",
    "                val_metrics[key] += batch_metrics[key]\n",
    "            count += 1\n",
    "            val_pbar.set_postfix(validation_loss=loss.item(), \n",
    "                                 val_ce_loss=ce_loss.item(),\n",
    "                                 val_inst_loss=inst_loss.item(),\n",
    "                                 iou=batch_metrics['iou'], \n",
    "                                 dice=batch_metrics['dice'], \n",
    "                                 acc=batch_metrics['accuracy'])\n",
    "\n",
    "        for key in val_metrics:\n",
    "            val_metrics[key] /= count\n",
    "        avg_val_loss = val_loss/count\n",
    "        avg_val_ce_loss = val_ce_loss/count\n",
    "        avg_val_inst_loss = val_inst_loss/count\n",
    "\n",
    "    \n",
    "    history[\"train_loss\"].append(avg_train_loss)\n",
    "    history[\"val_loss\"].append(avg_val_loss)\n",
    "    history[\"train_ce_loss\"].append(avg_train_ce_loss)\n",
    "    history[\"val_ce_loss\"].append(avg_val_ce_loss)\n",
    "    history[\"train_inst_loss\"].append(avg_train_inst_loss)\n",
    "    history[\"val_inst_loss\"].append(avg_val_inst_loss)\n",
    "    history[\"train_acc\"].append(train_metrics['accuracy'])\n",
    "    history[\"val_acc\"].append(val_metrics['accuracy'])\n",
    "    history[\"train_iou\"].append(train_metrics['iou'])\n",
    "    history[\"val_iou\"].append(val_metrics['iou'])\n",
    "    history[\"train_dice\"].append(train_metrics['dice'])\n",
    "    history[\"val_dice\"].append(val_metrics['dice'])\n",
    "\n",
    "    print(f\"Epoch {epoch+1}/{num_epochs}, \\n\"\n",
    "      f\"Train Loss: {avg_train_loss:.4f}, Train CE Loss: {avg_train_ce_loss:.4f}, Train Inst Loss: {avg_train_inst_loss:.4f}, \"\n",
    "      f\"Train IoU: {train_metrics['iou']:.4f}, Train Dice: {train_metrics['dice']:.4f}, Train Acc: {train_metrics['accuracy']:.4f}\\n\"\n",
    "      f\"Val Loss: {avg_val_loss:.4f}, Val CE Loss: {avg_val_ce_loss:.4f}, Val Inst Loss: {avg_val_inst_loss:.4f}, \"\n",
    "      f\"Val IoU: {val_metrics['iou']:.4f}, Val Dice: {val_metrics['dice']:.4f}, Val Acc: {val_metrics['accuracy']:.4f}\")\n",
    "    \n",
    "    save_plot(history, save_path)\n",
    "    if avg_val_loss < best_val_loss:\n",
    "        best_val_loss = val_loss\n",
    "        model_save_path = os.path.join(save_path, f'epoch{epoch:03d}-loss{avg_val_loss:.2f}.pt')\n",
    "        torch.save({'epoch': epoch,\n",
    "                    'model_state_dict': model.state_dict(),\n",
    "                    'optimizer_state_dict':optimizer.state_dict,\n",
    "                     'loss': criterion},\n",
    "                    model_save_path)\n",
    "        print(f\"Model improved and saved at {model_save_path}\")\n",
    "        count_skip_best_val = 0\n",
    "    else:\n",
    "        print('Model does not improve')\n",
    "        count_skip_best_val += 1\n",
    "    if count_skip_best_val >= 5:\n",
    "        print(f'Early Stopping at Epoch: {epoch}')\n",
    "        break\n",
    "    \n",
    "    # if early_stop_flag:\n",
    "    #     early_stopping(val_loss, model)\n",
    "    #     if early_stopping.early_stop:\n",
    "    #         print(f'Early Stopping at Epoch: {epoch}')\n",
    "    #         break\n",
    "    \n",
    "    # if decay_step is not None:\n",
    "    #     schedule.step()"
   ]
  },
  {
   "cell_type": "code",
   "execution_count": 20,
   "metadata": {},
   "outputs": [
    {
     "ename": "TypeError",
     "evalue": "'_SingleProcessDataLoaderIter' object is not subscriptable",
     "output_type": "error",
     "traceback": [
      "\u001b[0;31m---------------------------------------------------------------------------\u001b[0m",
      "\u001b[0;31mTypeError\u001b[0m                                 Traceback (most recent call last)",
      "Cell \u001b[0;32mIn[20], line 1\u001b[0m\n\u001b[0;32m----> 1\u001b[0m \u001b[38;5;28;01mfor\u001b[39;00m imgs, _, _ \u001b[38;5;129;01min\u001b[39;00m \u001b[38;5;28;43miter\u001b[39;49m\u001b[43m(\u001b[49m\u001b[43mval_loader\u001b[49m\u001b[43m)\u001b[49m\u001b[43m[\u001b[49m\u001b[38;5;241;43m0\u001b[39;49m\u001b[43m]\u001b[49m:\n\u001b[1;32m      2\u001b[0m     bins, insts \u001b[38;5;241m=\u001b[39m model(imgs)\n",
      "\u001b[0;31mTypeError\u001b[0m: '_SingleProcessDataLoaderIter' object is not subscriptable"
     ]
    }
   ],
   "source": [
    "for imgs, _, _ in val_loader:\n",
    "    bins, insts = model(imgs)"
   ]
  },
  {
   "cell_type": "code",
   "execution_count": null,
   "metadata": {},
   "outputs": [],
   "source": []
  },
  {
   "cell_type": "code",
   "execution_count": 21,
   "metadata": {},
   "outputs": [
    {
     "data": {
      "text/plain": [
       "501"
      ]
     },
     "execution_count": 21,
     "metadata": {},
     "output_type": "execute_result"
    }
   ],
   "source": [
    "len(val_loader)"
   ]
  },
  {
   "cell_type": "code",
   "execution_count": 22,
   "metadata": {},
   "outputs": [
    {
     "data": {
      "text/plain": [
       "torch.Size([1, 2, 256, 512])"
      ]
     },
     "execution_count": 22,
     "metadata": {},
     "output_type": "execute_result"
    }
   ],
   "source": [
    "bins = bins.detach().cpu()\n",
    "bins.shape"
   ]
  },
  {
   "cell_type": "code",
   "execution_count": 23,
   "metadata": {},
   "outputs": [
    {
     "data": {
      "text/plain": [
       "torch.Size([1, 256, 512])"
      ]
     },
     "execution_count": 23,
     "metadata": {},
     "output_type": "execute_result"
    }
   ],
   "source": [
    "bw_mask = torch.argmax(bins, dim=1)\n",
    "bw_mask.shape"
   ]
  },
  {
   "cell_type": "code",
   "execution_count": 24,
   "metadata": {},
   "outputs": [
    {
     "name": "stdout",
     "output_type": "stream",
     "text": [
      "Requirement already satisfied: matplotlib in /home/diazoangga/miniconda3/envs/cvPytorch/lib/python3.10/site-packages (3.10.1)\n",
      "Requirement already satisfied: contourpy>=1.0.1 in /home/diazoangga/miniconda3/envs/cvPytorch/lib/python3.10/site-packages (from matplotlib) (1.3.1)\n",
      "Requirement already satisfied: cycler>=0.10 in /home/diazoangga/miniconda3/envs/cvPytorch/lib/python3.10/site-packages (from matplotlib) (0.12.1)\n",
      "Requirement already satisfied: fonttools>=4.22.0 in /home/diazoangga/miniconda3/envs/cvPytorch/lib/python3.10/site-packages (from matplotlib) (4.56.0)\n",
      "Requirement already satisfied: kiwisolver>=1.3.1 in /home/diazoangga/miniconda3/envs/cvPytorch/lib/python3.10/site-packages (from matplotlib) (1.4.8)\n",
      "Requirement already satisfied: numpy>=1.23 in /home/diazoangga/miniconda3/envs/cvPytorch/lib/python3.10/site-packages (from matplotlib) (2.0.1)\n",
      "Requirement already satisfied: packaging>=20.0 in /home/diazoangga/miniconda3/envs/cvPytorch/lib/python3.10/site-packages (from matplotlib) (24.2)\n",
      "Requirement already satisfied: pillow>=8 in /home/diazoangga/miniconda3/envs/cvPytorch/lib/python3.10/site-packages (from matplotlib) (11.1.0)\n",
      "Requirement already satisfied: pyparsing>=2.3.1 in /home/diazoangga/miniconda3/envs/cvPytorch/lib/python3.10/site-packages (from matplotlib) (3.2.1)\n",
      "Requirement already satisfied: python-dateutil>=2.7 in /home/diazoangga/miniconda3/envs/cvPytorch/lib/python3.10/site-packages (from matplotlib) (2.9.0.post0)\n",
      "Requirement already satisfied: six>=1.5 in /home/diazoangga/miniconda3/envs/cvPytorch/lib/python3.10/site-packages (from python-dateutil>=2.7->matplotlib) (1.17.0)\n"
     ]
    }
   ],
   "source": [
    "!pip install matplotlib\n"
   ]
  },
  {
   "cell_type": "code",
   "execution_count": 25,
   "metadata": {},
   "outputs": [
    {
     "data": {
      "text/plain": [
       "<matplotlib.image.AxesImage at 0x73ee5e3784f0>"
      ]
     },
     "execution_count": 25,
     "metadata": {},
     "output_type": "execute_result"
    },
    {
     "data": {
      "image/png": "[encoded data removed]",
      "text/plain": [
       "<Figure size 640x480 with 1 Axes>"
      ]
     },
     "metadata": {},
     "output_type": "display_data"
    }
   ],
   "source": [
    "import matplotlib.pyplot as plt\n",
    "\n",
    "plt.imshow(bw_mask[0])"
   ]
  },
  {
   "cell_type": "code",
   "execution_count": 26,
   "metadata": {},
   "outputs": [
    {
     "data": {
      "text/plain": [
       "array([-6.5146604, -6.2937045, -6.282072 , ...,  4.66238  ,  4.9406867,\n",
       "        5.1861396], dtype=float32)"
      ]
     },
     "execution_count": 26,
     "metadata": {},
     "output_type": "execute_result"
    }
   ],
   "source": [
    "np.unique(insts.detach().cpu().numpy())"
   ]
  },
  {
   "cell_type": "code",
   "execution_count": 40,
   "metadata": {},
   "outputs": [],
   "source": [
    "import numpy as np\n",
    "import matplotlib.pyplot as plt\n",
    "from sklearn.cluster import KMeans\n",
    "\n",
    "\n",
    "def gen_mask(ins_img):\n",
    "    mask = []\n",
    "    for i, mask_i in enumerate(ins_img):\n",
    "        binarized = mask_i * (i + 1)\n",
    "        mask.append(binarized)\n",
    "    mask = np.sum(np.stack(mask, axis=0), axis=0).astype(np.uint8)\n",
    "    return mask\n",
    "\n",
    "def coloring(mask):\n",
    "    ins_color_img = np.zeros((mask.shape[0], mask.shape[1], 3), dtype=np.uint8)\n",
    "    n_ins = len(np.unique(mask)) - 1\n",
    "    colors = [plt.cm.Spectral(each) for each in np.linspace(0, 1, n_ins)]\n",
    "    for i in range(n_ins):\n",
    "        ins_color_img[mask == i + 1] =\\\n",
    "            (np.array(colors[i][:3]) * 255).astype(np.uint8)\n",
    "    return ins_color_img\n",
    "\n",
    "\n",
    "def gen_instance_mask(sem_pred, ins_pred, n_obj):\n",
    "    print(ins_pred.shape)\n",
    "    print(sem_pred.shape)\n",
    "    print(ins_pred[:, sem_pred].shape)\n",
    "    embeddings = ins_pred[:, sem_pred].transpose(1, 0).detach().cpu().numpy()\n",
    "    print(embeddings.shape)\n",
    "    clustering = KMeans(n_obj).fit(embeddings)\n",
    "    labels = clustering.labels_\n",
    "\n",
    "    instance_mask = np.zeros_like(sem_pred, dtype=np.uint8)\n",
    "    for i in range(n_obj):\n",
    "        lbl = np.zeros_like(labels, dtype=np.uint8)\n",
    "        lbl[labels == i] = i + 1\n",
    "        instance_mask[sem_pred] += lbl\n",
    "\n",
    "    return instance_mask\n",
    "\n",
    "def gen_instance_mask(sem_pred, ins_pred, n_obj):\n",
    "    \"\"\"\n",
    "    Generates an instance mask using KMeans clustering on instance embeddings.\n",
    "    \n",
    "    Args:\n",
    "        sem_pred (torch.Tensor): Binary mask of shape (H, W) indicating valid pixels.\n",
    "        ins_pred (torch.Tensor): Instance embeddings of shape (C, H, W).\n",
    "        n_obj (int): Number of clusters (lanes).\n",
    "    \n",
    "    Returns:\n",
    "        np.ndarray: Instance segmentation mask of shape (H, W).\n",
    "    \"\"\"\n",
    "\n",
    "    # Ensure inputs are on CPU\n",
    "    sem_pred = sem_pred.to(torch.bool).detach().cpu().numpy()\n",
    "    ins_pred = ins_pred.detach().cpu().numpy()\n",
    "\n",
    "    print(\"Instance Prediction Shape:\", ins_pred.shape)  # (4, 512, 256)\n",
    "    print(\"Semantic Prediction Shape:\", sem_pred.shape)  # (512, 256)\n",
    "\n",
    "    # Reshape ins_pred to (C, H*W) -> (4, 512*256)\n",
    "    C, H, W = ins_pred.shape\n",
    "    ins_pred = ins_pred.reshape(C, -1)  # (4, 131072)\n",
    "\n",
    "    # Extract valid pixel embeddings\n",
    "    embeddings = ins_pred[:, sem_pred.reshape(-1)].T  # Shape (num_pixels, C)\n",
    "\n",
    "    print(\"Extracted Embeddings Shape:\", embeddings.shape)  # (num_valid_pixels, 4)\n",
    "\n",
    "    # Ensure we have enough valid pixels for clustering\n",
    "    if embeddings.shape[0] < n_obj:\n",
    "        raise ValueError(f\"Not enough valid pixels ({embeddings.shape[0]}) for {n_obj} clusters.\")\n",
    "\n",
    "    # Apply KMeans clustering\n",
    "    clustering = KMeans(n_clusters=n_obj, random_state=42).fit(embeddings)\n",
    "    labels = clustering.labels_\n",
    "\n",
    "    # Create instance mask (H, W) initialized to 0\n",
    "    instance_mask = np.zeros((H, W), dtype=np.uint8)\n",
    "\n",
    "    print(instance_mask.shape, sem_pred.shape)\n",
    "\n",
    "    # Assign cluster labels to the corresponding pixels in the mask\n",
    "    instance_mask[sem_pred] = labels + 1  # Labels start from 1 for visibility\n",
    "\n",
    "    return instance_mask\n",
    "\n",
    "\n",
    "def gen_color_img(sem_pred, ins_pred, n_obj):\n",
    "    return coloring(gen_instance_mask(sem_pred, ins_pred, n_obj))"
   ]
  },
  {
   "cell_type": "code",
   "execution_count": 41,
   "metadata": {},
   "outputs": [
    {
     "name": "stderr",
     "output_type": "stream",
     "text": [
      "/tmp/ipykernel_32877/2184501443.py:6: DeprecationWarning: Please import `binary_fill_holes` from the `scipy.ndimage` namespace; the `scipy.ndimage.morphology` namespace is deprecated and will be removed in SciPy 2.0.0.\n",
      "  p_sem_pred.append(ndi.morphology.binary_fill_holes(sp > 0.5))\n"
     ]
    }
   ],
   "source": [
    "from scipy import ndimage as ndi\n",
    "\n",
    "p_sem_pred = []\n",
    "for sp in bins:\n",
    "    sp = sp.cpu().numpy()\n",
    "    p_sem_pred.append(ndi.morphology.binary_fill_holes(sp > 0.5))"
   ]
  },
  {
   "cell_type": "code",
   "execution_count": 42,
   "metadata": {},
   "outputs": [
    {
     "data": {
      "text/plain": [
       "(2, 256, 512)"
      ]
     },
     "execution_count": 42,
     "metadata": {},
     "output_type": "execute_result"
    }
   ],
   "source": [
    "p_sem_pred[0].shape"
   ]
  },
  {
   "cell_type": "code",
   "execution_count": 49,
   "metadata": {},
   "outputs": [
    {
     "name": "stdout",
     "output_type": "stream",
     "text": [
      "Instance Prediction Shape: (4, 256, 512)\n",
      "Semantic Prediction Shape: (256, 512)\n",
      "Extracted Embeddings Shape: (5125, 4)\n",
      "(256, 512) (256, 512)\n"
     ]
    },
    {
     "data": {
      "image/png": "[encoded data removed]",
      "text/plain": [
       "<Figure size 1500x500 with 3 Axes>"
      ]
     },
     "metadata": {},
     "output_type": "display_data"
    }
   ],
   "source": [
    "color_img = gen_color_img(bw_mask[0], insts[0], 4)\n",
    "fig, axes = plt.subplots(1,3, figsize=(15,5))\n",
    "axes[0].imshow(images[0].permute(1,2,0).cpu().numpy())\n",
    "axes[0].set_title('Original Image')\n",
    "axes[0].axis('off')\n",
    "\n",
    "axes[1].imshow(bw_mask[0], cmap='gray')\n",
    "axes[1].set_title('Binary Lane Detection')\n",
    "axes[1].axis('off')\n",
    "\n",
    "axes[2].imshow(color_img)\n",
    "axes[2].set_title('Semantic Lane Detection')\n",
    "axes[2].axis('off')\n",
    "\n",
    "plt.show()\n",
    "\n"
   ]
  },
  {
   "cell_type": "code",
   "execution_count": null,
   "metadata": {},
   "outputs": [],
   "source": []
  }
 ],
 "metadata": {
  "kernelspec": {
   "display_name": "cvPytorch",
   "language": "python",
   "name": "python3"
  },
  "language_info": {
   "codemirror_mode": {
    "name": "ipython",
    "version": 3
   },
   "file_extension": ".py",
   "mimetype": "text/x-python",
   "name": "python",
   "nbconvert_exporter": "python",
   "pygments_lexer": "ipython3",
   "version": "3.10.16"
  }
 },
 "nbformat": 4,
 "nbformat_minor": 2
}
